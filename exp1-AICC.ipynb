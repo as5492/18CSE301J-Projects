{
  "nbformat": 4,
  "nbformat_minor": 0,
  "metadata": {
    "colab": {
      "provenance": [],
      "authorship_tag": "ABX9TyNdNI8jjULLrG0owBnWBV2G",
      "include_colab_link": true
    },
    "kernelspec": {
      "name": "python3",
      "display_name": "Python 3"
    },
    "language_info": {
      "name": "python"
    }
  },
  "cells": [
    {
      "cell_type": "markdown",
      "metadata": {
        "id": "view-in-github",
        "colab_type": "text"
      },
      "source": [
        "<a href=\"https://colab.research.google.com/github/as5492/18CSE301J-Projects/blob/main/exp1-AICC.ipynb\" target=\"_parent\"><img src=\"https://colab.research.google.com/assets/colab-badge.svg\" alt=\"Open In Colab\"/></a>"
      ]
    },
    {
      "cell_type": "code",
      "execution_count": 1,
      "metadata": {
        "colab": {
          "base_uri": "https://localhost:8080/"
        },
        "id": "tEuoPOEwFV_n",
        "outputId": "310f825d-962c-4ac9-8ad1-39af93df5dc0"
      },
      "outputs": [
        {
          "output_type": "stream",
          "name": "stdout",
          "text": [
            "Move disc 1 from pole A to pole C\n",
            "Move disc 2 from pole A to pole B\n",
            "Move disc 1 from pole C to pole B\n",
            "Move disc 3 from pole A to pole C\n",
            "Move disc 1 from pole B to pole A\n",
            "Move disc 2 from pole B to pole C\n",
            "Move disc 1 from pole A to pole C\n"
          ]
        }
      ],
      "source": [
        "def TowerOfHanoi(n , s_pole, d_pole, i_pole):\n",
        "    if n == 1:\n",
        "        print(\"Move disc 1 from pole\",s_pole,\"to pole\",d_pole)\n",
        "        return\n",
        "    TowerOfHanoi(n-1, s_pole, i_pole, d_pole)\n",
        "    print(\"Move disc\",n,\"from pole\",s_pole,\"to pole\",d_pole)\n",
        "    TowerOfHanoi(n-1, i_pole, d_pole, s_pole)\n",
        "\n",
        "n = 3\n",
        "TowerOfHanoi(n, 'A', 'C', 'B')"
      ]
    },
    {
      "cell_type": "code",
      "source": [
        "N = 4\n",
        "ld = [0] * 30\n",
        "rd = [0] * 30\n",
        "cl = [0] * 30\n",
        "def printSolution(board):\n",
        "    for i in range(N):\n",
        "        for j in range(N):\n",
        "            print(\" Q \" if board[i][j] == 1 else \" . \", end=\"\")\n",
        "        print()\n",
        "def solveNQUtil(board, col):\n",
        "    if col >= N:\n",
        "        return True\n",
        "    for i in range(N):\n",
        "        if (ld[i - col + N - 1] != 1 and rd[i + col] != 1) and cl[i] != 1:\n",
        "            board[i][col] = 1\n",
        "            ld[i - col + N - 1] = rd[i + col] = cl[i] = 1\n",
        "            if solveNQUtil(board, col + 1):\n",
        "                return True\n",
        "            board[i][col] = 0  # BACKTRACK\n",
        "            ld[i - col + N - 1] = rd[i + col] = cl[i] = 0\n",
        "    return False\n",
        "def solveNQ():\n",
        "    board = [[0 for _ in range(N)] for _ in range(N)]\n",
        "    if not solveNQUtil(board, 0):\n",
        "        print(\"Solution does not exist\")\n",
        "        return False\n",
        "    printSolution(board)\n",
        "    return True\n",
        "if __name__ == \"__main__\":\n",
        "    solveNQ()"
      ],
      "metadata": {
        "colab": {
          "base_uri": "https://localhost:8080/"
        },
        "id": "HZ_BL-0xFveX",
        "outputId": "98ac6871-34bf-4bfb-d0f2-5e2e0a894141"
      },
      "execution_count": 5,
      "outputs": [
        {
          "output_type": "stream",
          "name": "stdout",
          "text": [
            " .  .  Q  . \n",
            " Q  .  .  . \n",
            " .  .  .  Q \n",
            " .  Q  .  . \n"
          ]
        }
      ]
    }
  ]
}